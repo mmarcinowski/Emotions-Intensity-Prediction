{
 "cells": [
  {
   "cell_type": "code",
   "execution_count": 2,
   "id": "1a1a4535",
   "metadata": {},
   "outputs": [],
   "source": [
    "import pandas as pd\n",
    "with open('EmoWikipediaTalkPages.csv') as csv_file:\n",
    "    conversations = pd.read_csv(csv_file)"
   ]
  },
  {
   "cell_type": "code",
   "execution_count": 3,
   "id": "eeb6f17e",
   "metadata": {},
   "outputs": [],
   "source": [
    "import numpy as np\n",
    "from numpy import array\n",
    "# split a univariate sequence into samples\n",
    "def split_sequence(sequence, n_steps):\n",
    "    X, y = list(), list()\n",
    "    for i in range(len(sequence)):\n",
    "    # find the end of this pattern\n",
    "        end_ix = i + n_steps\n",
    "        # check if we are beyond the sequence\n",
    "        if end_ix > len(sequence)-1:\n",
    "            break\n",
    "        # gather input and output parts of the pattern\n",
    "        seq_x, seq_y = sequence[i:end_ix], sequence[end_ix]\n",
    "        X.append(seq_x)\n",
    "        y.append(seq_y)\n",
    "    return array(X), array(y)"
   ]
  },
  {
   "cell_type": "code",
   "execution_count": 71,
   "id": "95116d72",
   "metadata": {},
   "outputs": [],
   "source": [
    "steps = 3\n",
    "eval_name = \"Plutchik\""
   ]
  },
  {
   "cell_type": "code",
   "execution_count": 52,
   "id": "af096d91",
   "metadata": {},
   "outputs": [],
   "source": [
    "from sklearn.metrics import precision_score, f1_score, accuracy_score, roc_auc_score, recall_score\n",
    "from darts.metrics import ope, mae, mse, mape, mase\n",
    "import json\n",
    "from statistics import mean\n",
    "\n",
    "def results_pool(actual_list, actual_ts, future_ts, train_ts):\n",
    "    predicted = [x.values()[0][0] for x in future_ts]\n",
    "    verdict_true = [x[-1]>x[-2] for x in actual_list]\n",
    "    verdict_predicted = [a>x[-2] for a,x in zip(predicted, actual_list)]\n",
    "    precision = precision_score(verdict_true, verdict_predicted)\n",
    "    f1 = f1_score(verdict_true, verdict_predicted)\n",
    "    accuracy = accuracy_score(verdict_true, verdict_predicted)\n",
    "    auc = roc_auc_score(verdict_true, verdict_predicted)\n",
    "    #recall = recall_score(verdict_true, verdict_predicted)\n",
    "    mse_err = mse(actual_ts, future_ts)\n",
    "    #ope_err = ope(actual_ts, future_ts)\n",
    "    mae_err = mae(actual_ts, future_ts)\n",
    "    mape_err = mape(actual_ts, future_ts)\n",
    "    #mase_err = mase(actual_ts, future_ts, train_ts)\n",
    "    results = {'mse':mean(mse_err), \n",
    "               #'ope':mean(ope_err), \n",
    "               'mae':mean(mae_err), \n",
    "               'mape':mean(mape_err),\n",
    "               #'mase':mean(mase_err),\n",
    "               #'precision':precision, \n",
    "               #'f1':f1, \n",
    "               'accuracy':accuracy, \n",
    "               #'auc':auc, \n",
    "               #'recall':recall\n",
    "              }\n",
    "    with open(f'Results-SotA/NBeats-{steps}-{eval_name}.json', 'w') as file:\n",
    "        json.dump(results, file)"
   ]
  },
  {
   "cell_type": "code",
   "execution_count": 53,
   "id": "44736f9d",
   "metadata": {},
   "outputs": [],
   "source": [
    "levels={\n",
    "    \"boredom\": 1,\n",
    "    \"disgust\": 2,\n",
    "    \"loathing\": 3,\n",
    "    \"contempt\": 2,\n",
    "    \"rage\": 3,\n",
    "    \"anger\": 2,\n",
    "    \"annoyance\": 1,\n",
    "    \"aggresiveness\": 2,\n",
    "    \"interest\": 1,\n",
    "    \"anticipation\": 2,\n",
    "    \"vigilance\": 3,\n",
    "    \"optimism\": 2,\n",
    "    \"ecstasy\": 3,\n",
    "    \"joy\": 2,\n",
    "    \"serenity\": 1,\n",
    "    \"love\": 2,\n",
    "    \"admiration\": 3,\n",
    "    \"trust\": 2,\n",
    "    \"acceptance\": 1,\n",
    "    \"submission\": 2,\n",
    "    \"terror\": 3,\n",
    "    \"fear\": 2,\n",
    "    \"apprehension\": 1,\n",
    "    \"awe\": 2,\n",
    "    \"amazement\": 3,\n",
    "    \"surprise\": 2,\n",
    "    \"distraction\": 1,\n",
    "    \"disapproval\": 2,\n",
    "    \"grief\": 3,\n",
    "    \"sadness\": 2,\n",
    "    \"pensiveness\": 1,\n",
    "    \"remorse\": 2,\n",
    "    \"none\": 0\n",
    "}"
   ]
  },
  {
   "cell_type": "code",
   "execution_count": 72,
   "id": "e8dd4fd7",
   "metadata": {},
   "outputs": [],
   "source": [
    "conv_list = []\n",
    "ids = list(set(conversations[\"conv_id\"]))\n",
    "for i in ids:\n",
    "    conv_list.append({\"conversation_id\":i, \"utterances\":[]})\n",
    "for index, row in conversations.iterrows():\n",
    "    for i in conv_list:\n",
    "        if row[\"conv_id\"]==i[\"conversation_id\"]:\n",
    "            emo1 = levels[row[\"plutchik_emotion1\"]]\n",
    "            emo2 = levels[row[\"plutchik_emotion2\"]]\n",
    "            emo3 = levels[row[\"plutchik_emotion3\"]]\n",
    "            #i[\"utterances\"].append(round((emo1+emo2+emo3)/3))\n",
    "            i[\"utterances\"].append((emo1+emo2+emo3)/3)"
   ]
  },
  {
   "cell_type": "code",
   "execution_count": 73,
   "id": "e3577534",
   "metadata": {},
   "outputs": [],
   "source": [
    "import random\n",
    "def train_val_test_split(data, percent1, percent2):\n",
    "    split_place1 = int(percent1*len(data))\n",
    "    split_place2 = int((percent1+percent2)*len(data))\n",
    "    random.shuffle(data)\n",
    "    return data[:split_place1], data[split_place1:split_place2], data[split_place2:]"
   ]
  },
  {
   "cell_type": "code",
   "execution_count": 74,
   "id": "d96660e0",
   "metadata": {},
   "outputs": [
    {
     "data": {
      "text/plain": [
       "[[1.0,\n",
       "  1.6666666666666667,\n",
       "  1.6666666666666667,\n",
       "  1.6666666666666667,\n",
       "  2.0,\n",
       "  2.0,\n",
       "  1.3333333333333333,\n",
       "  2.0,\n",
       "  2.6666666666666665],\n",
       " [2.0,\n",
       "  2.0,\n",
       "  1.0,\n",
       "  1.3333333333333333,\n",
       "  1.0,\n",
       "  2.0,\n",
       "  2.0,\n",
       "  2.0,\n",
       "  1.6666666666666667,\n",
       "  2.3333333333333335,\n",
       "  1.6666666666666667,\n",
       "  1.0],\n",
       " [1.3333333333333333,\n",
       "  2.0,\n",
       "  2.0,\n",
       "  2.6666666666666665,\n",
       "  1.6666666666666667,\n",
       "  2.6666666666666665],\n",
       " [0.6666666666666666,\n",
       "  2.0,\n",
       "  2.0,\n",
       "  1.3333333333333333,\n",
       "  1.3333333333333333,\n",
       "  0.6666666666666666],\n",
       " [1.0,\n",
       "  2.0,\n",
       "  1.6666666666666667,\n",
       "  1.6666666666666667,\n",
       "  0.6666666666666666,\n",
       "  1.0,\n",
       "  1.3333333333333333,\n",
       "  1.0,\n",
       "  0.3333333333333333,\n",
       "  0.6666666666666666,\n",
       "  1.6666666666666667,\n",
       "  2.0,\n",
       "  1.3333333333333333,\n",
       "  1.3333333333333333,\n",
       "  1.3333333333333333,\n",
       "  1.3333333333333333,\n",
       "  1.3333333333333333,\n",
       "  0.6666666666666666],\n",
       " [0.6666666666666666,\n",
       "  2.3333333333333335,\n",
       "  2.0,\n",
       "  1.6666666666666667,\n",
       "  1.0,\n",
       "  1.6666666666666667],\n",
       " [1.3333333333333333,\n",
       "  0.3333333333333333,\n",
       "  1.0,\n",
       "  1.0,\n",
       "  1.6666666666666667,\n",
       "  1.3333333333333333],\n",
       " [1.3333333333333333,\n",
       "  1.6666666666666667,\n",
       "  0.6666666666666666,\n",
       "  1.0,\n",
       "  1.0,\n",
       "  1.3333333333333333],\n",
       " [1.6666666666666667,\n",
       "  0.6666666666666666,\n",
       "  1.0,\n",
       "  1.3333333333333333,\n",
       "  1.6666666666666667,\n",
       "  1.3333333333333333,\n",
       "  1.0,\n",
       "  2.3333333333333335,\n",
       "  2.6666666666666665,\n",
       "  0.6666666666666666,\n",
       "  1.0,\n",
       "  0.6666666666666666,\n",
       "  1.6666666666666667,\n",
       "  1.3333333333333333,\n",
       "  2.0],\n",
       " [2.6666666666666665,\n",
       "  1.6666666666666667,\n",
       "  1.3333333333333333,\n",
       "  1.6666666666666667,\n",
       "  0.6666666666666666,\n",
       "  2.3333333333333335],\n",
       " [0.6666666666666666, 2.0, 2.0, 1.6666666666666667, 2.0, 2.3333333333333335],\n",
       " [1.0, 0.6666666666666666, 0.3333333333333333, 1.0, 1.0, 0.6666666666666666],\n",
       " [1.3333333333333333,\n",
       "  1.3333333333333333,\n",
       "  1.6666666666666667,\n",
       "  1.0,\n",
       "  2.0,\n",
       "  1.6666666666666667],\n",
       " [1.0,\n",
       "  1.3333333333333333,\n",
       "  1.6666666666666667,\n",
       "  1.6666666666666667,\n",
       "  0.6666666666666666,\n",
       "  0.6666666666666666,\n",
       "  1.0,\n",
       "  1.0,\n",
       "  2.0,\n",
       "  1.0,\n",
       "  1.0,\n",
       "  1.0],\n",
       " [1.3333333333333333,\n",
       "  1.3333333333333333,\n",
       "  1.0,\n",
       "  2.0,\n",
       "  1.0,\n",
       "  2.3333333333333335,\n",
       "  2.0,\n",
       "  1.3333333333333333,\n",
       "  2.3333333333333335,\n",
       "  1.6666666666666667,\n",
       "  1.6666666666666667,\n",
       "  1.6666666666666667],\n",
       " [1.3333333333333333,\n",
       "  1.6666666666666667,\n",
       "  1.3333333333333333,\n",
       "  1.6666666666666667,\n",
       "  1.6666666666666667,\n",
       "  1.6666666666666667],\n",
       " [1.6666666666666667,\n",
       "  1.3333333333333333,\n",
       "  1.6666666666666667,\n",
       "  1.6666666666666667,\n",
       "  0.3333333333333333,\n",
       "  2.0],\n",
       " [1.6666666666666667,\n",
       "  2.0,\n",
       "  2.0,\n",
       "  0.6666666666666666,\n",
       "  2.3333333333333335,\n",
       "  1.6666666666666667,\n",
       "  1.6666666666666667,\n",
       "  1.3333333333333333,\n",
       "  1.6666666666666667,\n",
       "  2.0,\n",
       "  1.3333333333333333,\n",
       "  0.3333333333333333],\n",
       " [0.3333333333333333, 1.0, 1.0, 2.0, 1.3333333333333333, 2.0],\n",
       " [1.0, 1.0, 1.6666666666666667, 1.6666666666666667, 1.0, 1.0],\n",
       " [2.0,\n",
       "  1.3333333333333333,\n",
       "  1.6666666666666667,\n",
       "  1.3333333333333333,\n",
       "  1.3333333333333333,\n",
       "  1.0,\n",
       "  1.3333333333333333,\n",
       "  1.6666666666666667,\n",
       "  0.3333333333333333],\n",
       " [1.0, 1.6666666666666667, 1.6666666666666667, 1.0, 1.0, 2.3333333333333335],\n",
       " [2.0,\n",
       "  1.6666666666666667,\n",
       "  1.6666666666666667,\n",
       "  2.0,\n",
       "  1.6666666666666667,\n",
       "  1.6666666666666667],\n",
       " [1.6666666666666667,\n",
       "  1.6666666666666667,\n",
       "  1.3333333333333333,\n",
       "  1.6666666666666667,\n",
       "  1.6666666666666667,\n",
       "  2.0],\n",
       " [1.3333333333333333,\n",
       "  0.6666666666666666,\n",
       "  1.0,\n",
       "  1.0,\n",
       "  1.6666666666666667,\n",
       "  1.6666666666666667],\n",
       " [1.6666666666666667,\n",
       "  1.3333333333333333,\n",
       "  1.3333333333333333,\n",
       "  1.0,\n",
       "  1.3333333333333333,\n",
       "  1.3333333333333333,\n",
       "  1.3333333333333333,\n",
       "  1.3333333333333333,\n",
       "  1.3333333333333333],\n",
       " [1.0, 1.3333333333333333, 1.3333333333333333, 2.0, 2.0, 1.0],\n",
       " [1.0,\n",
       "  0.6666666666666666,\n",
       "  1.6666666666666667,\n",
       "  1.0,\n",
       "  2.3333333333333335,\n",
       "  1.6666666666666667],\n",
       " [1.6666666666666667,\n",
       "  1.3333333333333333,\n",
       "  1.6666666666666667,\n",
       "  0.6666666666666666,\n",
       "  1.3333333333333333,\n",
       "  2.3333333333333335],\n",
       " [1.0, 1.0, 1.3333333333333333, 1.0, 1.3333333333333333, 1.6666666666666667],\n",
       " [0.6666666666666666,\n",
       "  2.0,\n",
       "  1.6666666666666667,\n",
       "  0.6666666666666666,\n",
       "  2.0,\n",
       "  1.6666666666666667],\n",
       " [0.6666666666666666,\n",
       "  1.0,\n",
       "  1.3333333333333333,\n",
       "  0.3333333333333333,\n",
       "  2.0,\n",
       "  0.3333333333333333],\n",
       " [2.3333333333333335,\n",
       "  1.6666666666666667,\n",
       "  1.6666666666666667,\n",
       "  1.0,\n",
       "  1.6666666666666667,\n",
       "  2.0]]"
      ]
     },
     "execution_count": 74,
     "metadata": {},
     "output_type": "execute_result"
    }
   ],
   "source": [
    "values_series = [i['utterances'] for i in conv_list if (0 not in i['utterances']) and (len(i['utterances'])>=steps+1)]\n",
    "values_series"
   ]
  },
  {
   "cell_type": "code",
   "execution_count": 75,
   "id": "0cecdd0f",
   "metadata": {},
   "outputs": [
    {
     "data": {
      "text/plain": [
       "33"
      ]
     },
     "execution_count": 75,
     "metadata": {},
     "output_type": "execute_result"
    }
   ],
   "source": [
    "len(values_series)"
   ]
  },
  {
   "cell_type": "code",
   "execution_count": 60,
   "id": "dc05ed0d",
   "metadata": {},
   "outputs": [
    {
     "data": {
      "text/plain": [
       "4.116788321167883"
      ]
     },
     "execution_count": 60,
     "metadata": {},
     "output_type": "execute_result"
    }
   ],
   "source": [
    "import numpy as np\n",
    "np.mean([len(x) for x in values_series])"
   ]
  },
  {
   "cell_type": "code",
   "execution_count": 61,
   "id": "c334f66f",
   "metadata": {},
   "outputs": [],
   "source": [
    "train_list_avg, val_list_avg, test_list_avg = train_val_test_split(values_series, 0.7, 0.15)"
   ]
  },
  {
   "cell_type": "code",
   "execution_count": 62,
   "id": "e750af19",
   "metadata": {},
   "outputs": [],
   "source": [
    "train_array_avg = [array(x) for x in train_list_avg]\n",
    "train_avg = [x.reshape((x.shape[0], 1, 1)) for x in train_array_avg]"
   ]
  },
  {
   "cell_type": "code",
   "execution_count": 63,
   "id": "2d6e4db4",
   "metadata": {},
   "outputs": [
    {
     "data": {
      "text/plain": [
       "95"
      ]
     },
     "execution_count": 63,
     "metadata": {},
     "output_type": "execute_result"
    }
   ],
   "source": [
    "len(train_avg)"
   ]
  },
  {
   "cell_type": "code",
   "execution_count": 64,
   "id": "6cf53240",
   "metadata": {},
   "outputs": [],
   "source": [
    "val_array_avg = [array(x) for x in val_list_avg]\n",
    "val_avg = [x.reshape((x.shape[0], 1, 1)) for x in val_array_avg]"
   ]
  },
  {
   "cell_type": "code",
   "execution_count": 65,
   "id": "2a839be8",
   "metadata": {},
   "outputs": [],
   "source": [
    "test_array_avg = [array(x) for x in test_list_avg]\n",
    "test_avg = [x.reshape((x.shape[0], 1, 1)) for x in test_array_avg]"
   ]
  },
  {
   "cell_type": "code",
   "execution_count": 42,
   "id": "a454e62b",
   "metadata": {},
   "outputs": [],
   "source": [
    "from darts.models import NBEATSModel\n",
    "from darts import TimeSeries"
   ]
  },
  {
   "cell_type": "code",
   "execution_count": 66,
   "id": "b86e4adc",
   "metadata": {},
   "outputs": [],
   "source": [
    "test_avg_ts = [TimeSeries.from_values(x) for x in test_avg]"
   ]
  },
  {
   "cell_type": "code",
   "execution_count": 67,
   "id": "32c5177e",
   "metadata": {},
   "outputs": [],
   "source": [
    "fit_series_avg = [TimeSeries.from_values(x) for x in train_avg]\n",
    "val_series_avg = [TimeSeries.from_values(x) for x in val_avg]\n",
    "predict_series_avg = [x[:-1] for x in test_avg_ts]\n",
    "y_test_avg_ts = [x[-1] for x in test_avg_ts]"
   ]
  },
  {
   "cell_type": "code",
   "execution_count": 68,
   "id": "65226cbc",
   "metadata": {},
   "outputs": [
    {
     "name": "stderr",
     "output_type": "stream",
     "text": [
      "[2022-03-29 01:49:25,152] INFO | darts.models.forecasting.torch_forecasting_model | Train dataset contains 1520 samples.\n",
      "[2022-03-29 01:49:25,152] INFO | darts.models.forecasting.torch_forecasting_model | Train dataset contains 1520 samples.\n",
      "[2022-03-29 01:49:25,221] INFO | darts.models.forecasting.torch_forecasting_model | Time series values are 64-bits; casting model to float64.\n",
      "[2022-03-29 01:49:25,221] INFO | darts.models.forecasting.torch_forecasting_model | Time series values are 64-bits; casting model to float64.\n"
     ]
    },
    {
     "data": {
      "application/vnd.jupyter.widget-view+json": {
       "model_id": "2b9b631b82a74f48803e0f552168ea99",
       "version_major": 2,
       "version_minor": 0
      },
      "text/plain": [
       "  0%|          | 0/100 [00:00<?, ?it/s]"
      ]
     },
     "metadata": {},
     "output_type": "display_data"
    },
    {
     "name": "stdout",
     "output_type": "stream",
     "text": [
      "Training loss: 0.2553, validation loss: 0.5956, best val loss: 0.4614\r"
     ]
    }
   ],
   "source": [
    "model_one_step_avg = NBEATSModel(input_chunk_length=steps, output_chunk_length=1)\n",
    "model_one_step_avg.fit(fit_series_avg, val_series=val_series_avg, verbose = True)"
   ]
  },
  {
   "cell_type": "code",
   "execution_count": 69,
   "id": "bf6cc9cd",
   "metadata": {},
   "outputs": [],
   "source": [
    "future_avg = model_one_step_avg.predict(n=1, series = predict_series_avg)"
   ]
  },
  {
   "cell_type": "code",
   "execution_count": 70,
   "id": "4f98e5d7",
   "metadata": {},
   "outputs": [],
   "source": [
    "results_pool(test_list_avg, y_test_avg_ts, future_avg, predict_series_avg)"
   ]
  },
  {
   "cell_type": "code",
   "execution_count": 33,
   "id": "03f0a17c",
   "metadata": {},
   "outputs": [
    {
     "data": {
      "text/plain": [
       "[<TimeSeries (DataArray) (time: 1, component: 1, sample: 1)>\n",
       " array([[[1.36747712]]])\n",
       " Coordinates:\n",
       "   * time       (time) int64 2\n",
       "   * component  (component) object '0'\n",
       " Dimensions without coordinates: sample,\n",
       " <TimeSeries (DataArray) (time: 1, component: 1, sample: 1)>\n",
       " array([[[1.15507836]]])\n",
       " Coordinates:\n",
       "   * time       (time) int64 2\n",
       "   * component  (component) object '0'\n",
       " Dimensions without coordinates: sample,\n",
       " <TimeSeries (DataArray) (time: 1, component: 1, sample: 1)>\n",
       " array([[[1.36747712]]])\n",
       " Coordinates:\n",
       "   * time       (time) int64 2\n",
       "   * component  (component) object '0'\n",
       " Dimensions without coordinates: sample,\n",
       " <TimeSeries (DataArray) (time: 1, component: 1, sample: 1)>\n",
       " array([[[1.55899495]]])\n",
       " Coordinates:\n",
       "   * time       (time) int64 5\n",
       "   * component  (component) object '0'\n",
       " Dimensions without coordinates: sample,\n",
       " <TimeSeries (DataArray) (time: 1, component: 1, sample: 1)>\n",
       " array([[[1.36747712]]])\n",
       " Coordinates:\n",
       "   * time       (time) int64 5\n",
       "   * component  (component) object '0'\n",
       " Dimensions without coordinates: sample,\n",
       " <TimeSeries (DataArray) (time: 1, component: 1, sample: 1)>\n",
       " array([[[1.55899495]]])\n",
       " Coordinates:\n",
       "   * time       (time) int64 2\n",
       "   * component  (component) object '0'\n",
       " Dimensions without coordinates: sample,\n",
       " <TimeSeries (DataArray) (time: 1, component: 1, sample: 1)>\n",
       " array([[[1.55899495]]])\n",
       " Coordinates:\n",
       "   * time       (time) int64 2\n",
       "   * component  (component) object '0'\n",
       " Dimensions without coordinates: sample,\n",
       " <TimeSeries (DataArray) (time: 1, component: 1, sample: 1)>\n",
       " array([[[1.19557603]]])\n",
       " Coordinates:\n",
       "   * time       (time) int64 2\n",
       "   * component  (component) object '0'\n",
       " Dimensions without coordinates: sample,\n",
       " <TimeSeries (DataArray) (time: 1, component: 1, sample: 1)>\n",
       " array([[[1.15526262]]])\n",
       " Coordinates:\n",
       "   * time       (time) int64 2\n",
       "   * component  (component) object '0'\n",
       " Dimensions without coordinates: sample,\n",
       " <TimeSeries (DataArray) (time: 1, component: 1, sample: 1)>\n",
       " array([[[1.4811857]]])\n",
       " Coordinates:\n",
       "   * time       (time) int64 11\n",
       "   * component  (component) object '0'\n",
       " Dimensions without coordinates: sample,\n",
       " <TimeSeries (DataArray) (time: 1, component: 1, sample: 1)>\n",
       " array([[[1.36747712]]])\n",
       " Coordinates:\n",
       "   * time       (time) int64 11\n",
       "   * component  (component) object '0'\n",
       " Dimensions without coordinates: sample,\n",
       " <TimeSeries (DataArray) (time: 1, component: 1, sample: 1)>\n",
       " array([[[1.19557603]]])\n",
       " Coordinates:\n",
       "   * time       (time) int64 5\n",
       "   * component  (component) object '0'\n",
       " Dimensions without coordinates: sample,\n",
       " <TimeSeries (DataArray) (time: 1, component: 1, sample: 1)>\n",
       " array([[[1.36747712]]])\n",
       " Coordinates:\n",
       "   * time       (time) int64 2\n",
       "   * component  (component) object '0'\n",
       " Dimensions without coordinates: sample,\n",
       " <TimeSeries (DataArray) (time: 1, component: 1, sample: 1)>\n",
       " array([[[1.15526262]]])\n",
       " Coordinates:\n",
       "   * time       (time) int64 2\n",
       "   * component  (component) object '0'\n",
       " Dimensions without coordinates: sample,\n",
       " <TimeSeries (DataArray) (time: 1, component: 1, sample: 1)>\n",
       " array([[[1.36747712]]])\n",
       " Coordinates:\n",
       "   * time       (time) int64 2\n",
       "   * component  (component) object '0'\n",
       " Dimensions without coordinates: sample,\n",
       " <TimeSeries (DataArray) (time: 1, component: 1, sample: 1)>\n",
       " array([[[1.36747712]]])\n",
       " Coordinates:\n",
       "   * time       (time) int64 5\n",
       "   * component  (component) object '0'\n",
       " Dimensions without coordinates: sample,\n",
       " <TimeSeries (DataArray) (time: 1, component: 1, sample: 1)>\n",
       " array([[[1.4811857]]])\n",
       " Coordinates:\n",
       "   * time       (time) int64 2\n",
       "   * component  (component) object '0'\n",
       " Dimensions without coordinates: sample,\n",
       " <TimeSeries (DataArray) (time: 1, component: 1, sample: 1)>\n",
       " array([[[1.19557603]]])\n",
       " Coordinates:\n",
       "   * time       (time) int64 2\n",
       "   * component  (component) object '0'\n",
       " Dimensions without coordinates: sample,\n",
       " <TimeSeries (DataArray) (time: 1, component: 1, sample: 1)>\n",
       " array([[[1.55899495]]])\n",
       " Coordinates:\n",
       "   * time       (time) int64 5\n",
       "   * component  (component) object '0'\n",
       " Dimensions without coordinates: sample,\n",
       " <TimeSeries (DataArray) (time: 1, component: 1, sample: 1)>\n",
       " array([[[1.55899495]]])\n",
       " Coordinates:\n",
       "   * time       (time) int64 2\n",
       "   * component  (component) object '0'\n",
       " Dimensions without coordinates: sample,\n",
       " <TimeSeries (DataArray) (time: 1, component: 1, sample: 1)>\n",
       " array([[[1.62570084]]])\n",
       " Coordinates:\n",
       "   * time       (time) int64 2\n",
       "   * component  (component) object '0'\n",
       " Dimensions without coordinates: sample,\n",
       " <TimeSeries (DataArray) (time: 1, component: 1, sample: 1)>\n",
       " array([[[1.36747712]]])\n",
       " Coordinates:\n",
       "   * time       (time) int64 11\n",
       "   * component  (component) object '0'\n",
       " Dimensions without coordinates: sample,\n",
       " <TimeSeries (DataArray) (time: 1, component: 1, sample: 1)>\n",
       " array([[[1.55899495]]])\n",
       " Coordinates:\n",
       "   * time       (time) int64 2\n",
       "   * component  (component) object '0'\n",
       " Dimensions without coordinates: sample]"
      ]
     },
     "execution_count": 33,
     "metadata": {},
     "output_type": "execute_result"
    }
   ],
   "source": [
    "future_avg"
   ]
  },
  {
   "cell_type": "code",
   "execution_count": null,
   "id": "def5d618",
   "metadata": {},
   "outputs": [],
   "source": []
  }
 ],
 "metadata": {
  "kernelspec": {
   "display_name": "Python 3 (ipykernel)",
   "language": "python",
   "name": "python3"
  },
  "language_info": {
   "codemirror_mode": {
    "name": "ipython",
    "version": 3
   },
   "file_extension": ".py",
   "mimetype": "text/x-python",
   "name": "python",
   "nbconvert_exporter": "python",
   "pygments_lexer": "ipython3",
   "version": "3.8.8"
  }
 },
 "nbformat": 4,
 "nbformat_minor": 5
}
